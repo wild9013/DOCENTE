{
 "cells": [
  {
   "cell_type": "markdown",
   "id": "eedc7e30-42f2-40da-847e-bdf5c7fe87a1",
   "metadata": {},
   "source": [
    "## INFORME ACADEMICO POR PERIODO\n",
    "\n",
    "### VERSION 2024.\n",
    "\n",
    "El siguiente codigo permite resumir los resultados academicos del periodo de cada uno de los estudiantes.\n"
   ]
  },
  {
   "cell_type": "code",
   "execution_count": 1,
   "id": "26af204b-3619-4ca9-8cb0-acb6604045ea",
   "metadata": {},
   "outputs": [
    {
     "name": "stdout",
     "output_type": "stream",
     "text": [
      "Defaulting to user installation because normal site-packages is not writeable\n",
      "Requirement already satisfied: docxtpl in c:\\programdata\\anaconda3\\lib\\site-packages (0.18.0)\n",
      "Requirement already satisfied: python-docx>=1.1.1 in c:\\programdata\\anaconda3\\lib\\site-packages (from docxtpl) (1.1.2)\n",
      "Requirement already satisfied: docxcompose in c:\\programdata\\anaconda3\\lib\\site-packages (from docxtpl) (1.4.0)\n",
      "Requirement already satisfied: jinja2 in c:\\programdata\\anaconda3\\lib\\site-packages (from docxtpl) (3.1.4)\n",
      "Requirement already satisfied: lxml in c:\\programdata\\anaconda3\\lib\\site-packages (from docxtpl) (5.2.1)\n",
      "Requirement already satisfied: typing-extensions>=4.9.0 in c:\\programdata\\anaconda3\\lib\\site-packages (from python-docx>=1.1.1->docxtpl) (4.11.0)\n",
      "Requirement already satisfied: setuptools in c:\\programdata\\anaconda3\\lib\\site-packages (from docxcompose->docxtpl) (69.5.1)\n",
      "Requirement already satisfied: six in c:\\programdata\\anaconda3\\lib\\site-packages (from docxcompose->docxtpl) (1.16.0)\n",
      "Requirement already satisfied: babel in c:\\programdata\\anaconda3\\lib\\site-packages (from docxcompose->docxtpl) (2.11.0)\n",
      "Requirement already satisfied: MarkupSafe>=2.0 in c:\\programdata\\anaconda3\\lib\\site-packages (from jinja2->docxtpl) (2.1.3)\n",
      "Requirement already satisfied: pytz>=2015.7 in c:\\programdata\\anaconda3\\lib\\site-packages (from babel->docxcompose->docxtpl) (2024.1)\n"
     ]
    }
   ],
   "source": [
    "!pip install docxtpl"
   ]
  },
  {
   "cell_type": "markdown",
   "id": "47e1d1e2-b4bf-49a8-87ac-6d5d21596b79",
   "metadata": {},
   "source": [
    "https://www.youtube.com/watch?v=a3ouEh6WMNw"
   ]
  },
  {
   "cell_type": "code",
   "execution_count": 3,
   "id": "77ef3500-f025-4fe5-b1bf-70d96f269b89",
   "metadata": {},
   "outputs": [],
   "source": [
    "import pandas as pd\n",
    "from datetime import datetime\n",
    "from docxtpl import DocxTemplate\n",
    "import matplotlib.pyplot as plt\n",
    "from docxtpl import DocxTemplate, InlineImage\n",
    "from docx.shared import Inches\n",
    "import io\n",
    "import numpy as np"
   ]
  },
  {
   "cell_type": "code",
   "execution_count": 4,
   "id": "612e65ba-4b18-4e6d-8b96-5c87cff46c73",
   "metadata": {},
   "outputs": [],
   "source": [
    "doc = DocxTemplate(\"plantilla.docx\")"
   ]
  },
  {
   "cell_type": "code",
   "execution_count": 8,
   "id": "5f818a82-fb2e-4c1b-80ae-b20049cea085",
   "metadata": {},
   "outputs": [],
   "source": [
    "nombre=\"Wilder Salas Mena\"\n",
    "fecha = datetime.today().strftime(\"%d/%m/%Y\")"
   ]
  },
  {
   "cell_type": "code",
   "execution_count": 10,
   "id": "23ec21b5-1a72-45f0-bb07-ae4cb47d4950",
   "metadata": {},
   "outputs": [
    {
     "name": "stdout",
     "output_type": "stream",
     "text": [
      "{'nombre': 'Wilder Salas Mena', 'fecha': '13/08/2024'}\n"
     ]
    }
   ],
   "source": [
    "constantes= {\n",
    "    \"nombre\": nombre,\n",
    "    \"fecha\": fecha\n",
    "    }\n",
    "print(constantes)"
   ]
  },
  {
   "cell_type": "code",
   "execution_count": 29,
   "id": "c860a3c2-e02d-45e8-a194-1840d02e797e",
   "metadata": {},
   "outputs": [],
   "source": [
    "porcentajes = {\n",
    "        \"asistenciaP\": \"10%\",\n",
    "        \"trasnP\": \"15%\",\n",
    "        \"bonificacionP\": \"0%\",\n",
    "        \"tallerP\": \"40%\",\n",
    "        \"comportamientoP\": \"5%\",\n",
    "        \"autoevaluacionP\": \"5%\",\n",
    "        \"examenP\": \"25%\",\n",
    "}"
   ]
  },
  {
   "cell_type": "markdown",
   "id": "39c1fdb4-1bae-4f27-93fd-770d2ab43fb0",
   "metadata": {},
   "source": [
    "codigo para acceder a documento excel offline (solo habilitar cuando se vaya a trabajar con esta modalidad)"
   ]
  },
  {
   "cell_type": "markdown",
   "id": "ffcce473-6a35-453a-a958-c342063777b0",
   "metadata": {},
   "source": [
    "df2=pd.read_excel(\"alumnos.xlsx\")\n",
    "df2"
   ]
  },
  {
   "cell_type": "markdown",
   "id": "be384d8a-33bb-4180-af4f-34d683f65719",
   "metadata": {},
   "source": [
    "Codigo para trabajar con documento excel de google, en la web. "
   ]
  },
  {
   "cell_type": "code",
   "execution_count": 34,
   "id": "34145504-a851-411f-bcbe-00030275f2ae",
   "metadata": {},
   "outputs": [],
   "source": [
    "# La URL debe estar entre comillas para que sea una cadena de texto válida\n",
    "url = \"https://docs.google.com/spreadsheets/d/e/2PACX-1vQ7DifwDwqGwxZr79KAAqeihjNbEbT3YeNGaYJgNsS4FKPu_QUWEcj3Y3gY-9xTZrxvoVEnMt4aK2mw/pub?gid=271012679&single=true&output=csv\"\n",
    "\n",
    "# Leer el CSV desde la URL\n",
    "df2 = pd.read_csv(url)\n",
    "\n",
    "# Mostrar las primeras filas del DataFrame\n",
    "# print(df2.head())"
   ]
  },
  {
   "cell_type": "code",
   "execution_count": 35,
   "id": "28e5bb3c-ff74-4266-b030-1c90a650dec4",
   "metadata": {},
   "outputs": [
    {
     "name": "stdout",
     "output_type": "stream",
     "text": [
      "{'nombre1': 'Arteaga Mestra Samuel', 'nota1': '4,00', 'nota2': '4,35', 'nota3': '0,00', 'nota4': '3,40', 'nota5': '4,00', 'nota6': '4,00', 'nota7': '2,50', 'nota8': '3,39', 'Observaciones': nan, 'nombre': 'Wilder Salas Mena', 'fecha': '13/08/2024', 'asistenciaP': '10%', 'trasnP': '15%', 'bonificacionP': '0%', 'tallerP': '40%', 'comportamientoP': '5%', 'autoevaluacionP': '5%', 'examenP': '25%', 'grafico': <docxtpl.inline_image.InlineImage object at 0x00000272B38CCCE0>}\n",
      "{'nombre1': 'Arteaga Mestra Sara Ludith', 'nota1': '4,33', 'nota2': '4,25', 'nota3': '0,00', 'nota4': '3,41', 'nota5': '4,00', 'nota6': '4,00', 'nota7': '1,00', 'nota8': '3,04', 'Observaciones': nan, 'nombre': 'Wilder Salas Mena', 'fecha': '13/08/2024', 'asistenciaP': '10%', 'trasnP': '15%', 'bonificacionP': '0%', 'tallerP': '40%', 'comportamientoP': '5%', 'autoevaluacionP': '5%', 'examenP': '25%', 'grafico': <docxtpl.inline_image.InlineImage object at 0x00000272B261D670>}\n",
      "{'nombre1': 'Ballesteros Lopez Amy Cecilia', 'nota1': '4,00', 'nota2': '4,50', 'nota3': '0,00', 'nota4': '2,83', 'nota5': '4,00', 'nota6': '4,00', 'nota7': '3,00', 'nota8': '3,27', 'Observaciones': nan, 'nombre': 'Wilder Salas Mena', 'fecha': '13/08/2024', 'asistenciaP': '10%', 'trasnP': '15%', 'bonificacionP': '0%', 'tallerP': '40%', 'comportamientoP': '5%', 'autoevaluacionP': '5%', 'examenP': '25%', 'grafico': <docxtpl.inline_image.InlineImage object at 0x00000272B273A6F0>}\n",
      "{'nombre1': 'Baron Villadiego Argel David', 'nota1': '4,00', 'nota2': '3,50', 'nota3': '0,00', 'nota4': '2,22', 'nota5': '3,80', 'nota6': '4,00', 'nota7': '3,00', 'nota8': '2,89', 'Observaciones': nan, 'nombre': 'Wilder Salas Mena', 'fecha': '13/08/2024', 'asistenciaP': '10%', 'trasnP': '15%', 'bonificacionP': '0%', 'tallerP': '40%', 'comportamientoP': '5%', 'autoevaluacionP': '5%', 'examenP': '25%', 'grafico': <docxtpl.inline_image.InlineImage object at 0x00000272B67A7290>}\n",
      "{'nombre1': 'Cordero Pacheco Valentina', 'nota1': '2,33', 'nota2': '0,00', 'nota3': '0,00', 'nota4': '1,59', 'nota5': '4,00', 'nota6': '4,00', 'nota7': '2,00', 'nota8': '1,85', 'Observaciones': nan, 'nombre': 'Wilder Salas Mena', 'fecha': '13/08/2024', 'asistenciaP': '10%', 'trasnP': '15%', 'bonificacionP': '0%', 'tallerP': '40%', 'comportamientoP': '5%', 'autoevaluacionP': '5%', 'examenP': '25%', 'grafico': <docxtpl.inline_image.InlineImage object at 0x00000272B679C8F0>}\n",
      "{'nombre1': 'De La Cruz Corcho Dewin Yair', 'nota1': '3,33', 'nota2': '3,40', 'nota3': '0,00', 'nota4': '1,67', 'nota5': '3,50', 'nota6': '4,00', 'nota7': '1,00', 'nota8': '2,05', 'Observaciones': nan, 'nombre': 'Wilder Salas Mena', 'fecha': '13/08/2024', 'asistenciaP': '10%', 'trasnP': '15%', 'bonificacionP': '0%', 'tallerP': '40%', 'comportamientoP': '5%', 'autoevaluacionP': '5%', 'examenP': '25%', 'grafico': <docxtpl.inline_image.InlineImage object at 0x00000272B68F7B60>}\n",
      "{'nombre1': 'Escobar Torres Yesenia', 'nota1': '3,33', 'nota2': '3,75', 'nota3': '0,00', 'nota4': '2,30', 'nota5': '3,70', 'nota6': '4,00', 'nota7': '3,50', 'nota8': '3,00', 'Observaciones': nan, 'nombre': 'Wilder Salas Mena', 'fecha': '13/08/2024', 'asistenciaP': '10%', 'trasnP': '15%', 'bonificacionP': '0%', 'tallerP': '40%', 'comportamientoP': '5%', 'autoevaluacionP': '5%', 'examenP': '25%', 'grafico': <docxtpl.inline_image.InlineImage object at 0x00000272B68BE0F0>}\n",
      "{'nombre1': 'Guerra Estrada Michel', 'nota1': '3,67', 'nota2': '3,65', 'nota3': '0,00', 'nota4': '3,13', 'nota5': '4,00', 'nota6': '4,00', 'nota7': '3,50', 'nota8': '3,42', 'Observaciones': nan, 'nombre': 'Wilder Salas Mena', 'fecha': '13/08/2024', 'asistenciaP': '10%', 'trasnP': '15%', 'bonificacionP': '0%', 'tallerP': '40%', 'comportamientoP': '5%', 'autoevaluacionP': '5%', 'examenP': '25%', 'grafico': <docxtpl.inline_image.InlineImage object at 0x00000272B697F0E0>}\n",
      "{'nombre1': 'Guerra Gaviria Yiseth Paola', 'nota1': '3,00', 'nota2': '1,50', 'nota3': '0,00', 'nota4': '1,09', 'nota5': '4,00', 'nota6': '4,00', 'nota7': '1,50', 'nota8': '1,72', 'Observaciones': 'envía excusas sin firmar por parte de directivos, no son validas', 'nombre': 'Wilder Salas Mena', 'fecha': '13/08/2024', 'asistenciaP': '10%', 'trasnP': '15%', 'bonificacionP': '0%', 'tallerP': '40%', 'comportamientoP': '5%', 'autoevaluacionP': '5%', 'examenP': '25%', 'grafico': <docxtpl.inline_image.InlineImage object at 0x00000272B69C3E60>}\n",
      "{'nombre1': 'Hernandez Arcia Manuel De Jesus', 'nota1': '3,67', 'nota2': '3,50', 'nota3': '0,00', 'nota4': '1,39', 'nota5': '3,50', 'nota6': '4,00', 'nota7': '2,50', 'nota8': '2,34', 'Observaciones': 'no quiso hacerse en grupo  en la act de energia', 'nombre': 'Wilder Salas Mena', 'fecha': '13/08/2024', 'asistenciaP': '10%', 'trasnP': '15%', 'bonificacionP': '0%', 'tallerP': '40%', 'comportamientoP': '5%', 'autoevaluacionP': '5%', 'examenP': '25%', 'grafico': <docxtpl.inline_image.InlineImage object at 0x00000272B6998290>}\n",
      "{'nombre1': 'Jimenez Florez Andres', 'nota1': '3,00', 'nota2': '3,40', 'nota3': '0,00', 'nota4': '2,66', 'nota5': '4,00', 'nota6': '4,00', 'nota7': '3,00', 'nota8': '2,99', 'Observaciones': nan, 'nombre': 'Wilder Salas Mena', 'fecha': '13/08/2024', 'asistenciaP': '10%', 'trasnP': '15%', 'bonificacionP': '0%', 'tallerP': '40%', 'comportamientoP': '5%', 'autoevaluacionP': '5%', 'examenP': '25%', 'grafico': <docxtpl.inline_image.InlineImage object at 0x00000272B6999490>}\n",
      "{'nombre1': 'Marquez Rosario Natalia Isabel', 'nota1': '3,67', 'nota2': '2,00', 'nota3': '0,00', 'nota4': '1,27', 'nota5': '3,80', 'nota6': '4,00', 'nota7': '2,00', 'nota8': '2,03', 'Observaciones': nan, 'nombre': 'Wilder Salas Mena', 'fecha': '13/08/2024', 'asistenciaP': '10%', 'trasnP': '15%', 'bonificacionP': '0%', 'tallerP': '40%', 'comportamientoP': '5%', 'autoevaluacionP': '5%', 'examenP': '25%', 'grafico': <docxtpl.inline_image.InlineImage object at 0x00000272B6A8AA20>}\n",
      "{'nombre1': 'Matias Manchego Elimelec', 'nota1': '3,33', 'nota2': '0,75', 'nota3': '0,00', 'nota4': '0,92', 'nota5': '3,50', 'nota6': '4,00', 'nota7': '1,00', 'nota8': '1,45', 'Observaciones': nan, 'nombre': 'Wilder Salas Mena', 'fecha': '13/08/2024', 'asistenciaP': '10%', 'trasnP': '15%', 'bonificacionP': '0%', 'tallerP': '40%', 'comportamientoP': '5%', 'autoevaluacionP': '5%', 'examenP': '25%', 'grafico': <docxtpl.inline_image.InlineImage object at 0x00000272B691E240>}\n",
      "{'nombre1': 'Mora Fabra Natalia', 'nota1': '1,67', 'nota2': '1,50', 'nota3': '0,00', 'nota4': '2,16', 'nota5': '3,50', 'nota6': '4,00', 'nota7': '3,00', 'nota8': '2,41', 'Observaciones': nan, 'nombre': 'Wilder Salas Mena', 'fecha': '13/08/2024', 'asistenciaP': '10%', 'trasnP': '15%', 'bonificacionP': '0%', 'tallerP': '40%', 'comportamientoP': '5%', 'autoevaluacionP': '5%', 'examenP': '25%', 'grafico': <docxtpl.inline_image.InlineImage object at 0x00000272B6AACFE0>}\n",
      "{'nombre1': 'Morelo Cordero Lidis Esther', 'nota1': '4,00', 'nota2': '2,95', 'nota3': '0,00', 'nota4': '2,23', 'nota5': '3,50', 'nota6': '4,00', 'nota7': '2,00', 'nota8': '2,57', 'Observaciones': nan, 'nombre': 'Wilder Salas Mena', 'fecha': '13/08/2024', 'asistenciaP': '10%', 'trasnP': '15%', 'bonificacionP': '0%', 'tallerP': '40%', 'comportamientoP': '5%', 'autoevaluacionP': '5%', 'examenP': '25%', 'grafico': <docxtpl.inline_image.InlineImage object at 0x00000272B6BF80E0>}\n",
      "{'nombre1': 'Murillo Usuga Keyner Andres', 'nota1': '3,33', 'nota2': '0,50', 'nota3': '0,00', 'nota4': '1,59', 'nota5': '3,50', 'nota6': '4,00', 'nota7': '1,50', 'nota8': '1,85', 'Observaciones': nan, 'nombre': 'Wilder Salas Mena', 'fecha': '13/08/2024', 'asistenciaP': '10%', 'trasnP': '15%', 'bonificacionP': '0%', 'tallerP': '40%', 'comportamientoP': '5%', 'autoevaluacionP': '5%', 'examenP': '25%', 'grafico': <docxtpl.inline_image.InlineImage object at 0x00000272B6AAC950>}\n",
      "{'nombre1': 'Negrete Ocampo Kevin David', 'nota1': '4,33', 'nota2': '3,65', 'nota3': '0,00', 'nota4': '2,86', 'nota5': '3,80', 'nota6': '4,00', 'nota7': '2,50', 'nota8': '3,10', 'Observaciones': nan, 'nombre': 'Wilder Salas Mena', 'fecha': '13/08/2024', 'asistenciaP': '10%', 'trasnP': '15%', 'bonificacionP': '0%', 'tallerP': '40%', 'comportamientoP': '5%', 'autoevaluacionP': '5%', 'examenP': '25%', 'grafico': <docxtpl.inline_image.InlineImage object at 0x00000272B68BEB10>}\n",
      "{'nombre1': 'Nuñez Monterrosa Zharit', 'nota1': '3,50', 'nota2': '1,00', 'nota3': '0,00', 'nota4': '0,98', 'nota5': '3,50', 'nota6': '4,00', 'nota7': '2,50', 'nota8': '1,89', 'Observaciones': nan, 'nombre': 'Wilder Salas Mena', 'fecha': '13/08/2024', 'asistenciaP': '10%', 'trasnP': '15%', 'bonificacionP': '0%', 'tallerP': '40%', 'comportamientoP': '5%', 'autoevaluacionP': '5%', 'examenP': '25%', 'grafico': <docxtpl.inline_image.InlineImage object at 0x00000272B6B4EDE0>}\n",
      "{'nombre1': 'Ortiz Cardenas Maria Alejandra', 'nota1': '4,33', 'nota2': '4,50', 'nota3': '0,00', 'nota4': '3,92', 'nota5': '4,00', 'nota6': '4,00', 'nota7': '1,50', 'nota8': '3,42', 'Observaciones': nan, 'nombre': 'Wilder Salas Mena', 'fecha': '13/08/2024', 'asistenciaP': '10%', 'trasnP': '15%', 'bonificacionP': '0%', 'tallerP': '40%', 'comportamientoP': '5%', 'autoevaluacionP': '5%', 'examenP': '25%', 'grafico': <docxtpl.inline_image.InlineImage object at 0x00000272B6CEA4E0>}\n",
      "{'nombre1': 'Padilla Mendoza Leydy Yulieth', 'nota1': '4,00', 'nota2': '3,00', 'nota3': '0,00', 'nota4': '2,26', 'nota5': '3,50', 'nota6': '4,00', 'nota7': '3,00', 'nota8': '2,84', 'Observaciones': nan, 'nombre': 'Wilder Salas Mena', 'fecha': '13/08/2024', 'asistenciaP': '10%', 'trasnP': '15%', 'bonificacionP': '0%', 'tallerP': '40%', 'comportamientoP': '5%', 'autoevaluacionP': '5%', 'examenP': '25%', 'grafico': <docxtpl.inline_image.InlineImage object at 0x00000272B6DE0E30>}\n",
      "{'nombre1': 'Peñate Mora Juan David', 'nota1': '4,00', 'nota2': '4,00', 'nota3': '0,00', 'nota4': '3,34', 'nota5': '2,70', 'nota6': '4,00', 'nota7': '2,50', 'nota8': '3,26', 'Observaciones': nan, 'nombre': 'Wilder Salas Mena', 'fecha': '13/08/2024', 'asistenciaP': '10%', 'trasnP': '15%', 'bonificacionP': '0%', 'tallerP': '40%', 'comportamientoP': '5%', 'autoevaluacionP': '5%', 'examenP': '25%', 'grafico': <docxtpl.inline_image.InlineImage object at 0x00000272B6999820>}\n",
      "{'nombre1': 'Reyes Mora Sebastian', 'nota1': '3,00', 'nota2': '2,75', 'nota3': '0,00', 'nota4': '2,77', 'nota5': '3,70', 'nota6': '4,00', 'nota7': '3,00', 'nota8': '2,96', 'Observaciones': nan, 'nombre': 'Wilder Salas Mena', 'fecha': '13/08/2024', 'asistenciaP': '10%', 'trasnP': '15%', 'bonificacionP': '0%', 'tallerP': '40%', 'comportamientoP': '5%', 'autoevaluacionP': '5%', 'examenP': '25%', 'grafico': <docxtpl.inline_image.InlineImage object at 0x00000272B6EFBBC0>}\n",
      "{'nombre1': 'Rovira Almario Astrid Carolina', 'nota1': '3,67', 'nota2': '3,70', 'nota3': '0,00', 'nota4': '4,08', 'nota5': '4,20', 'nota6': '4,00', 'nota7': '3,50', 'nota8': '3,86', 'Observaciones': nan, 'nombre': 'Wilder Salas Mena', 'fecha': '13/08/2024', 'asistenciaP': '10%', 'trasnP': '15%', 'bonificacionP': '0%', 'tallerP': '40%', 'comportamientoP': '5%', 'autoevaluacionP': '5%', 'examenP': '25%', 'grafico': <docxtpl.inline_image.InlineImage object at 0x00000272B6C1F410>}\n",
      "{'nombre1': 'Seña Petro Juan Manuel', 'nota1': '2,83', 'nota2': '2,00', 'nota3': '0,00', 'nota4': '1,30', 'nota5': '3,50', 'nota6': '4,00', 'nota7': '2,50', 'nota8': '2,07', 'Observaciones': nan, 'nombre': 'Wilder Salas Mena', 'fecha': '13/08/2024', 'asistenciaP': '10%', 'trasnP': '15%', 'bonificacionP': '0%', 'tallerP': '40%', 'comportamientoP': '5%', 'autoevaluacionP': '5%', 'examenP': '25%', 'grafico': <docxtpl.inline_image.InlineImage object at 0x00000272B699B230>}\n"
     ]
    },
    {
     "ename": "OSError",
     "evalue": "[Errno 22] Invalid argument: 'Teheran Castellano Evelin\\r_INFORME_.docx'",
     "output_type": "error",
     "traceback": [
      "\u001b[1;31m---------------------------------------------------------------------------\u001b[0m",
      "\u001b[1;31mOSError\u001b[0m                                   Traceback (most recent call last)",
      "Cell \u001b[1;32mIn[35], line 81\u001b[0m\n\u001b[0;32m     79\u001b[0m \u001b[38;5;66;03m# Renderizar y guardar el documento\u001b[39;00m\n\u001b[0;32m     80\u001b[0m doc\u001b[38;5;241m.\u001b[39mrender(contenido)\n\u001b[1;32m---> 81\u001b[0m doc\u001b[38;5;241m.\u001b[39msave(\u001b[38;5;124mf\u001b[39m\u001b[38;5;124m\"\u001b[39m\u001b[38;5;132;01m{\u001b[39;00mfila[\u001b[38;5;124m'\u001b[39m\u001b[38;5;124mNombre Completo\u001b[39m\u001b[38;5;124m'\u001b[39m]\u001b[38;5;132;01m}\u001b[39;00m\u001b[38;5;124m_INFORME_.docx\u001b[39m\u001b[38;5;124m\"\u001b[39m)\n\u001b[0;32m     83\u001b[0m \u001b[38;5;28mprint\u001b[39m(contenido)\n",
      "File \u001b[1;32mC:\\ProgramData\\anaconda3\\Lib\\site-packages\\docxtpl\\template.py:856\u001b[0m, in \u001b[0;36mDocxTemplate.save\u001b[1;34m(self, filename, *args, **kwargs)\u001b[0m\n\u001b[0;32m    854\u001b[0m     \u001b[38;5;28mself\u001b[39m\u001b[38;5;241m.\u001b[39mdocx \u001b[38;5;241m=\u001b[39m Document(\u001b[38;5;28mself\u001b[39m\u001b[38;5;241m.\u001b[39mtemplate_file)\n\u001b[0;32m    855\u001b[0m \u001b[38;5;28mself\u001b[39m\u001b[38;5;241m.\u001b[39mpre_processing()\n\u001b[1;32m--> 856\u001b[0m \u001b[38;5;28mself\u001b[39m\u001b[38;5;241m.\u001b[39mdocx\u001b[38;5;241m.\u001b[39msave(filename, \u001b[38;5;241m*\u001b[39margs, \u001b[38;5;241m*\u001b[39m\u001b[38;5;241m*\u001b[39mkwargs)\n\u001b[0;32m    857\u001b[0m \u001b[38;5;28mself\u001b[39m\u001b[38;5;241m.\u001b[39mpost_processing(filename)\n\u001b[0;32m    858\u001b[0m \u001b[38;5;28mself\u001b[39m\u001b[38;5;241m.\u001b[39mis_saved \u001b[38;5;241m=\u001b[39m \u001b[38;5;28;01mTrue\u001b[39;00m\n",
      "File \u001b[1;32mC:\\ProgramData\\anaconda3\\Lib\\site-packages\\docx\\document.py:149\u001b[0m, in \u001b[0;36mDocument.save\u001b[1;34m(self, path_or_stream)\u001b[0m\n\u001b[0;32m    143\u001b[0m \u001b[38;5;28;01mdef\u001b[39;00m \u001b[38;5;21msave\u001b[39m(\u001b[38;5;28mself\u001b[39m, path_or_stream: \u001b[38;5;28mstr\u001b[39m \u001b[38;5;241m|\u001b[39m IO[\u001b[38;5;28mbytes\u001b[39m]):\n\u001b[0;32m    144\u001b[0m \u001b[38;5;250m    \u001b[39m\u001b[38;5;124;03m\"\"\"Save this document to `path_or_stream`.\u001b[39;00m\n\u001b[0;32m    145\u001b[0m \n\u001b[0;32m    146\u001b[0m \u001b[38;5;124;03m    `path_or_stream` can be either a path to a filesystem location (a string) or a\u001b[39;00m\n\u001b[0;32m    147\u001b[0m \u001b[38;5;124;03m    file-like object.\u001b[39;00m\n\u001b[0;32m    148\u001b[0m \u001b[38;5;124;03m    \"\"\"\u001b[39;00m\n\u001b[1;32m--> 149\u001b[0m     \u001b[38;5;28mself\u001b[39m\u001b[38;5;241m.\u001b[39m_part\u001b[38;5;241m.\u001b[39msave(path_or_stream)\n",
      "File \u001b[1;32mC:\\ProgramData\\anaconda3\\Lib\\site-packages\\docx\\parts\\document.py:108\u001b[0m, in \u001b[0;36mDocumentPart.save\u001b[1;34m(self, path_or_stream)\u001b[0m\n\u001b[0;32m    105\u001b[0m \u001b[38;5;28;01mdef\u001b[39;00m \u001b[38;5;21msave\u001b[39m(\u001b[38;5;28mself\u001b[39m, path_or_stream: \u001b[38;5;28mstr\u001b[39m \u001b[38;5;241m|\u001b[39m IO[\u001b[38;5;28mbytes\u001b[39m]):\n\u001b[0;32m    106\u001b[0m \u001b[38;5;250m    \u001b[39m\u001b[38;5;124;03m\"\"\"Save this document to `path_or_stream`, which can be either a path to a\u001b[39;00m\n\u001b[0;32m    107\u001b[0m \u001b[38;5;124;03m    filesystem location (a string) or a file-like object.\"\"\"\u001b[39;00m\n\u001b[1;32m--> 108\u001b[0m     \u001b[38;5;28mself\u001b[39m\u001b[38;5;241m.\u001b[39mpackage\u001b[38;5;241m.\u001b[39msave(path_or_stream)\n",
      "File \u001b[1;32mC:\\ProgramData\\anaconda3\\Lib\\site-packages\\docx\\opc\\package.py:167\u001b[0m, in \u001b[0;36mOpcPackage.save\u001b[1;34m(self, pkg_file)\u001b[0m\n\u001b[0;32m    165\u001b[0m \u001b[38;5;28;01mfor\u001b[39;00m part \u001b[38;5;129;01min\u001b[39;00m \u001b[38;5;28mself\u001b[39m\u001b[38;5;241m.\u001b[39mparts:\n\u001b[0;32m    166\u001b[0m     part\u001b[38;5;241m.\u001b[39mbefore_marshal()\n\u001b[1;32m--> 167\u001b[0m PackageWriter\u001b[38;5;241m.\u001b[39mwrite(pkg_file, \u001b[38;5;28mself\u001b[39m\u001b[38;5;241m.\u001b[39mrels, \u001b[38;5;28mself\u001b[39m\u001b[38;5;241m.\u001b[39mparts)\n",
      "File \u001b[1;32mC:\\ProgramData\\anaconda3\\Lib\\site-packages\\docx\\opc\\pkgwriter.py:34\u001b[0m, in \u001b[0;36mPackageWriter.write\u001b[1;34m(pkg_file, pkg_rels, parts)\u001b[0m\n\u001b[0;32m     30\u001b[0m \u001b[38;5;129m@staticmethod\u001b[39m\n\u001b[0;32m     31\u001b[0m \u001b[38;5;28;01mdef\u001b[39;00m \u001b[38;5;21mwrite\u001b[39m(pkg_file, pkg_rels, parts):\n\u001b[0;32m     32\u001b[0m \u001b[38;5;250m    \u001b[39m\u001b[38;5;124;03m\"\"\"Write a physical package (.pptx file) to `pkg_file` containing `pkg_rels` and\u001b[39;00m\n\u001b[0;32m     33\u001b[0m \u001b[38;5;124;03m    `parts` and a content types stream based on the content types of the parts.\"\"\"\u001b[39;00m\n\u001b[1;32m---> 34\u001b[0m     phys_writer \u001b[38;5;241m=\u001b[39m PhysPkgWriter(pkg_file)\n\u001b[0;32m     35\u001b[0m     PackageWriter\u001b[38;5;241m.\u001b[39m_write_content_types_stream(phys_writer, parts)\n\u001b[0;32m     36\u001b[0m     PackageWriter\u001b[38;5;241m.\u001b[39m_write_pkg_rels(phys_writer, pkg_rels)\n",
      "File \u001b[1;32mC:\\ProgramData\\anaconda3\\Lib\\site-packages\\docx\\opc\\phys_pkg.py:109\u001b[0m, in \u001b[0;36m_ZipPkgWriter.__init__\u001b[1;34m(self, pkg_file)\u001b[0m\n\u001b[0;32m    107\u001b[0m \u001b[38;5;28;01mdef\u001b[39;00m \u001b[38;5;21m__init__\u001b[39m(\u001b[38;5;28mself\u001b[39m, pkg_file):\n\u001b[0;32m    108\u001b[0m     \u001b[38;5;28msuper\u001b[39m(_ZipPkgWriter, \u001b[38;5;28mself\u001b[39m)\u001b[38;5;241m.\u001b[39m\u001b[38;5;21m__init__\u001b[39m()\n\u001b[1;32m--> 109\u001b[0m     \u001b[38;5;28mself\u001b[39m\u001b[38;5;241m.\u001b[39m_zipf \u001b[38;5;241m=\u001b[39m ZipFile(pkg_file, \u001b[38;5;124m\"\u001b[39m\u001b[38;5;124mw\u001b[39m\u001b[38;5;124m\"\u001b[39m, compression\u001b[38;5;241m=\u001b[39mZIP_DEFLATED)\n",
      "File \u001b[1;32mC:\\ProgramData\\anaconda3\\Lib\\zipfile\\__init__.py:1331\u001b[0m, in \u001b[0;36mZipFile.__init__\u001b[1;34m(self, file, mode, compression, allowZip64, compresslevel, strict_timestamps, metadata_encoding)\u001b[0m\n\u001b[0;32m   1329\u001b[0m \u001b[38;5;28;01mwhile\u001b[39;00m \u001b[38;5;28;01mTrue\u001b[39;00m:\n\u001b[0;32m   1330\u001b[0m     \u001b[38;5;28;01mtry\u001b[39;00m:\n\u001b[1;32m-> 1331\u001b[0m         \u001b[38;5;28mself\u001b[39m\u001b[38;5;241m.\u001b[39mfp \u001b[38;5;241m=\u001b[39m io\u001b[38;5;241m.\u001b[39mopen(file, filemode)\n\u001b[0;32m   1332\u001b[0m     \u001b[38;5;28;01mexcept\u001b[39;00m \u001b[38;5;167;01mOSError\u001b[39;00m:\n\u001b[0;32m   1333\u001b[0m         \u001b[38;5;28;01mif\u001b[39;00m filemode \u001b[38;5;129;01min\u001b[39;00m modeDict:\n",
      "\u001b[1;31mOSError\u001b[0m: [Errno 22] Invalid argument: 'Teheran Castellano Evelin\\r_INFORME_.docx'"
     ]
    }
   ],
   "source": [
    "# Iterar sobre las filas del DataFrame\n",
    "for indice, fila in df2.iterrows():\n",
    "    contenido = {\n",
    "        \"nombre1\": fila[\"Nombre Completo\"],\n",
    "        \"nota1\": fila[\"asistencia1\"],\n",
    "        \"nota2\": fila[\"trasn1\"],\n",
    "        \"nota3\": fila[\"bonificacion1\"],\n",
    "        \"nota4\": fila[\"taller1\"],\n",
    "        \"nota5\": fila[\"comportamiento1\"],\n",
    "        \"nota6\": fila[\"autoevaluacion1\"],\n",
    "        \"nota7\": fila[\"examen1\"],\n",
    "        \"nota8\": fila[\"DEFINITIVA\"],\n",
    "        \"Observaciones\": fila[\"Observaciones\"]\n",
    "    }\n",
    "    contenido.update(constantes)\n",
    "    contenido.update(porcentajes)\n",
    "\n",
    "     # Verificar si la palabra \"control\" está en alguna de las columnas\n",
    "    if fila.astype(str).str.contains('CONTROL', case=False).any():\n",
    "        print(f\"Palabra 'control' encontrada en la fila con índice {indice}. Deteniendo el ciclo.\")\n",
    "        break  # Detener el ciclo si se encuentra la palabra \"control\"\n",
    "\n",
    "    # Crear el gráfico \n",
    "    notas = [\n",
    "        fila[\"asistencia1\"],\n",
    "        fila[\"trasn1\"],\n",
    "        fila[\"bonificacion1\"],\n",
    "        fila[\"taller1\"],\n",
    "        fila[\"comportamiento1\"],\n",
    "        fila[\"autoevaluacion1\"],\n",
    "        fila[\"examen1\"]\n",
    "    ]\n",
    "\n",
    "    # Convertir a flotantes y reemplazar valores NaN, espacios en blanco y comas por 0\n",
    "    def convertir_a_float(valor):\n",
    "        if pd.isna(valor) or valor == '':\n",
    "            return 0\n",
    "        valor_str = str(valor).replace(',', '.')\n",
    "        try:\n",
    "            return float(valor_str)\n",
    "        except ValueError:\n",
    "            return 0\n",
    "    \n",
    "    notas = [convertir_a_float(x) for x in notas]\n",
    "\n",
    "    \n",
    "    etiquetas = [\n",
    "        \"Asis\", \"Trans\", \"Boni\", \"Tall\", \"Comp\", \"Autoe\", \"Exa\"\n",
    "    ]\n",
    "    \n",
    "   # Crear el gráfico radial\n",
    "    num_vars = len(etiquetas)\n",
    "    angles = np.linspace(0, 2 * np.pi, num_vars, endpoint=False).tolist()\n",
    "    notas = notas + [notas[0]]  # Añadir el primer valor al final para cerrar el círculo\n",
    "    angles += angles[:1]\n",
    "\n",
    "    fig, ax = plt.subplots(figsize=(4, 4), subplot_kw=dict(polar=True))\n",
    "    ax.fill(angles, notas, color='skyblue', alpha=0.4)\n",
    "    ax.plot(angles, notas, color='blue', linewidth=2)\n",
    "\n",
    "    # Añadir etiquetas en el gráfico radial\n",
    "    ax.set_yticklabels([])\n",
    "    ax.set_xticks(angles[:-1])\n",
    "    ax.set_xticklabels(etiquetas)\n",
    "\n",
    "    plt.title('Resultados del Estudiante')\n",
    "\n",
    "    # Guardar el gráfico en un objeto BytesIO\n",
    "    img_stream = io.BytesIO()\n",
    "    plt.savefig(img_stream, format='png')\n",
    "    plt.close()\n",
    "    img_stream.seek(0)\n",
    "\n",
    "\n",
    "    # Insertar el gráfico en el documento\n",
    "    imagen = InlineImage(doc, img_stream, width=Inches(2.3))\n",
    "    contenido[\"grafico\"] = imagen\n",
    "\n",
    "    # Renderizar y guardar el documento\n",
    "    doc.render(contenido)\n",
    "    doc.save(f\"{fila['Nombre Completo']}_INFORME_.docx\")\n",
    "\n",
    "    print(contenido)"
   ]
  },
  {
   "cell_type": "code",
   "execution_count": null,
   "id": "69ac6d12-b145-4902-ab11-32cc614813d4",
   "metadata": {},
   "outputs": [],
   "source": []
  },
  {
   "cell_type": "code",
   "execution_count": null,
   "id": "078634fb-c5a2-43b2-9009-13898455b1bb",
   "metadata": {},
   "outputs": [],
   "source": []
  }
 ],
 "metadata": {
  "kernelspec": {
   "display_name": "Python 3 (ipykernel)",
   "language": "python",
   "name": "python3"
  },
  "language_info": {
   "codemirror_mode": {
    "name": "ipython",
    "version": 3
   },
   "file_extension": ".py",
   "mimetype": "text/x-python",
   "name": "python",
   "nbconvert_exporter": "python",
   "pygments_lexer": "ipython3",
   "version": "3.12.4"
  }
 },
 "nbformat": 4,
 "nbformat_minor": 5
}
