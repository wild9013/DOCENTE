{
 "cells": [
  {
   "cell_type": "markdown",
   "id": "93cd93ee-e7b8-4a5d-ab76-4b4e23796179",
   "metadata": {},
   "source": [
    "ACTIVIDAD."
   ]
  },
  {
   "cell_type": "markdown",
   "id": "3c07c21f-bcda-4ef8-a6e3-eb250b44ce65",
   "metadata": {},
   "source": [
    "EL SIGUIENTE ES UN CODIGO PARA ELABORAR PREGUNTAS DE SELACCION \n",
    "MULTIPLE USANDO UN ARCHIVO DE EXCEL QUE CONTENGA PREGUNTAS  Y RESPUESTAS. \n",
    "ESTE RECURSO EDUCATIVO SE USARÁ EN CLAE\n"
   ]
  },
  {
   "cell_type": "code",
   "execution_count": 317,
   "id": "eac5f167-7bbd-42a4-af01-5962b7c9c3fb",
   "metadata": {},
   "outputs": [],
   "source": [
    "import tkinter as tk\n",
    "from tkinter import messagebox\n",
    "import pandas as pd\n",
    "import random\n",
    "\n"
   ]
  },
  {
   "cell_type": "code",
   "execution_count": 319,
   "id": "b521b705-fbdf-4409-bb4a-ecdd61dee333",
   "metadata": {},
   "outputs": [],
   "source": [
    "file_path=\"preguntas.xlsx\"\n",
    "data = pd.read_excel(file_path)\n",
    "data = data.astype(str) # convierte en string todos los valores"
   ]
  },
  {
   "cell_type": "code",
   "execution_count": 321,
   "id": "7b5d8e51-a244-4a5f-a83a-1e63c2d034ce",
   "metadata": {},
   "outputs": [],
   "source": [
    "#funcion para iniciar el juego\n",
    "def start_game():\n",
    "    global question_index, correct_answers\n",
    "    question_index=0\n",
    "    correct_answers=0\n",
    "    show_question()"
   ]
  },
  {
   "cell_type": "code",
   "execution_count": 323,
   "id": "2c1193f2-b0f4-4b68-a363-217abbab9498",
   "metadata": {},
   "outputs": [],
   "source": [
    "# funicon shoe question para mostrar cada pregunta\n",
    "def show_question():\n",
    "    if  question_index < len(data):\n",
    "        #obtener las opcioens mezclasdas\n",
    "        options=[data[\"Respuesta Correcta\"][question_index],data[\"R1\"][question_index],data[\"R2\"][question_index],data[\"R3\"][question_index]]\n",
    "        random.shuffle(options)\n",
    "\n",
    "        # actualizar el texto de la pregunta y las opciones\n",
    "        question_label.config(text=data[\"Pregunta\"][question_index])\n",
    "        for i in range(4):\n",
    "            radio_buttons[i].config(text=options[i], value=options[i])\n",
    "        update_status()\n",
    "    else:\n",
    "        messagebox.showinfo(\"fin del juego\",f\"Juego terminado. Respondiste {correct_answers} preguntas correctas de {len(data)}.\")\n",
    "        window.destroy()\n",
    "    \n",
    "def update_status():\n",
    "    status_label.config(text=f\"Pregunta {question_index+1} de {len(data)}\")\n",
    "\n",
    "\n",
    "def handle_answer():\n",
    "    global question_index, correct_answers\n",
    "    if answer_var.get() == data[\"Respuesta Correcta\"][question_index]:\n",
    "        correct_answers += 1\n",
    "    else:\n",
    "        messagebox.showerror(\"Respuesta Incorrecta\", \n",
    "                            f\"Inforrecto! La respuesta correcta era: {data[\"Respuesta Correcta\"][question_index]}\")\n",
    "    \n",
    "    question_index += 1 #actualiza el indice para la proxima pregunta\n",
    "    show_question()\n",
    "\n",
    "# crear ventana\n",
    "window = tk.Tk()\n",
    "window.title(\"juego trivia\")\n",
    "\n",
    "\n",
    "\n",
    "\n",
    "#variables\n",
    "question_index = 0\n",
    "correct_answers = 0\n",
    "answer_var = tk.StringVar()\n",
    "\n",
    "#widgets\n",
    "question_label = tk.Label(window, text=\"\", wraplength=400)\n",
    "question_label.pack(pady=(20,10))\n",
    "\n",
    "radio_buttons=[]\n",
    "for _ in range(4):\n",
    "    rb = tk.Radiobutton(window, text=\"\", variable=answer_var, wraplength=300)\n",
    "    rb.pack(anchor=\"w\")\n",
    "    radio_buttons.append(rb)\n",
    "\n",
    "answer_button = tk.Button(window, text=\"Responder\", command=handle_answer)\n",
    "answer_button.pack(pady=20)\n",
    "\n",
    "\n",
    "status_label = tk.Label(window, text=\"\")\n",
    "status_label.pack()\n",
    "\n",
    "\n",
    "\n"
   ]
  },
  {
   "cell_type": "code",
   "execution_count": 325,
   "id": "98620f74-df48-4e67-a2c2-2aafda05d050",
   "metadata": {},
   "outputs": [],
   "source": [
    "## correr la aplicaicon\n",
    "start_game()\n",
    "window.mainloop()"
   ]
  },
  {
   "cell_type": "markdown",
   "id": "37cf99f2-72bf-420f-8012-c3299aa5d1df",
   "metadata": {},
   "source": [
    "Realizar 5 preguntas de selección multiple para pegar en excel: el cual debe contener las siguientes columnas: \n",
    "pregunta, respuesta correcta, respuesta incorrecta 1, respuesta incorrecta  2, respuesta incorrecta 3."
   ]
  }
 ],
 "metadata": {
  "kernelspec": {
   "display_name": "Python 3 (ipykernel)",
   "language": "python",
   "name": "python3"
  },
  "language_info": {
   "codemirror_mode": {
    "name": "ipython",
    "version": 3
   },
   "file_extension": ".py",
   "mimetype": "text/x-python",
   "name": "python",
   "nbconvert_exporter": "python",
   "pygments_lexer": "ipython3",
   "version": "3.12.4"
  }
 },
 "nbformat": 4,
 "nbformat_minor": 5
}
